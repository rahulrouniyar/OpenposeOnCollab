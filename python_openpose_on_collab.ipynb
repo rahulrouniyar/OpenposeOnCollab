{
  "nbformat": 4,
  "nbformat_minor": 0,
  "metadata": {
    "colab": {
      "provenance": []
    },
    "kernelspec": {
      "name": "python3",
      "display_name": "Python 3"
    },
    "language_info": {
      "name": "python"
    },
    "gpuClass": "standard"
  },
  "cells": [
    {
      "cell_type": "markdown",
      "source": [
        "1. Install Cmake version compatible with CUDA10.\n",
        "2. Clone and unzip Openpose."
      ],
      "metadata": {
        "id": "VABRNhvZF_hc"
      }
    },
    {
      "cell_type": "code",
      "execution_count": null,
      "metadata": {
        "id": "mFq1OxGNlwK8"
      },
      "outputs": [],
      "source": [
        "import os\n",
        "from os.path import exists, join, basename, splitext\n",
        "\n",
        "git_repo_url = 'https://github.com/CMU-Perceptual-Computing-Lab/openpose.git'\n",
        "project_name = splitext(basename(git_repo_url))[0]\n",
        "if not exists(project_name):\n",
        "  # see: https://github.com/CMU-Perceptual-Computing-Lab/openpose/issues/949\n",
        "  # install new CMake becaue of CUDA10\n",
        "  !wget -q https://cmake.org/files/v3.13/cmake-3.13.0-Linux-x86_64.tar.gz\n",
        "  !tar xfz cmake-3.13.0-Linux-x86_64.tar.gz --strip-components=1 -C /usr/local\n",
        "  # clone openpose\n",
        "  !git clone -q --depth 1 $git_repo_url\n",
        "  !sed -i 's/execute_process(COMMAND git checkout master WORKING_DIRECTORY ${CMAKE_SOURCE_DIR}\\/3rdparty\\/caffe)/execute_process(COMMAND git checkout f019d0dfe86f49d1140961f8c7dec22130c83154 WORKING_DIRECTORY ${CMAKE_SOURCE_DIR}\\/3rdparty\\/caffe)/g' openpose/CMakeLists.txt\n",
        "  # install system dependencies\n",
        "  !apt-get -qq install -y libatlas-base-dev libprotobuf-dev libleveldb-dev libsnappy-dev libhdf5-serial-dev protobuf-compiler libgflags-dev libgoogle-glog-dev liblmdb-dev opencl-headers ocl-icd-opencl-dev libviennacl-dev\n"
      ]
    },
    {
      "cell_type": "markdown",
      "source": [
        "Create directory 'build' inside openpose and run cmake inside that folder."
      ],
      "metadata": {
        "id": "rALMLbMdGeet"
      }
    },
    {
      "cell_type": "code",
      "source": [
        "!cd openpose && rm -rf build || true && mkdir build && cd build && cmake .. "
      ],
      "metadata": {
        "id": "8zkren2emjAl"
      },
      "execution_count": null,
      "outputs": []
    },
    {
      "cell_type": "markdown",
      "source": [
        "Set parameter BUILD_PYTHON ON to configure openpose in python"
      ],
      "metadata": {
        "id": "GI05T-RNGtVK"
      }
    },
    {
      "cell_type": "code",
      "source": [
        "!cd openpose && cd build && cmake -D BUILD_PYTHON:BOOL=ON .."
      ],
      "metadata": {
        "id": "qVBHLwYbnQ3J"
      },
      "execution_count": null,
      "outputs": []
    },
    {
      "cell_type": "code",
      "source": [
        "!cd openpose && cd build  && make -j`nproc`"
      ],
      "metadata": {
        "id": "znnOT0h77Y0G"
      },
      "execution_count": null,
      "outputs": []
    },
    {
      "cell_type": "markdown",
      "source": [
        "Edit build/CMakeCache.txt as:\n",
        "1. PYBIND11_INSTALL:BOOL=ON\n",
        "2. PYTHON_EXECUTABLE:FILEPATH=/usr/bin/python3.8\n",
        "3. PYTHON_LIBRARY:FILEPATH=/usr/lib/x86_64-linux-gnu/libpython3.8m.so\n",
        "\n",
        "\n",
        "The reason for error related to **pyopenpose** is because of parameter PYBIND11_INSTALL. This parameter becomes available in file CMakeCache.txt only after setting BUILD_PYTHON. So we need to configure it in cmake once more."
      ],
      "metadata": {
        "id": "DgeLZsxc6inL"
      }
    },
    {
      "cell_type": "code",
      "source": [
        "!cd openpose && cd build && cmake .."
      ],
      "metadata": {
        "id": "9hUb19ajkx5j"
      },
      "execution_count": null,
      "outputs": []
    },
    {
      "cell_type": "code",
      "source": [
        "!cd openpose && cd build  && make -j`nproc`"
      ],
      "metadata": {
        "colab": {
          "base_uri": "https://localhost:8080/"
        },
        "id": "SWyRMQIhomDH",
        "outputId": "690e69ce-afe7-4d82-a1c3-b9d26596c960"
      },
      "execution_count": null,
      "outputs": [
        {
          "output_type": "stream",
          "name": "stdout",
          "text": [
            "[  3%] Built target openpose_lib\n",
            "[  3%] \u001b[32m\u001b[1mLinking CXX shared library libopenpose.so\u001b[0m\n",
            "[ 41%] Built target openpose\n",
            "[ 46%] Built target openpose_core\n",
            "[ 46%] \u001b[32m\u001b[1mLinking CXX executable calibration.bin\u001b[0m\n",
            "[ 46%] \u001b[32m\u001b[1mLinking CXX executable tutorial_api_thread_1_user_processing_function.bin\u001b[0m\n",
            "[ 47%] Built target calibration.bin\n",
            "[ 47%] \u001b[32m\u001b[1mLinking CXX executable tutorial_add_module_custom_post_processing.bin\u001b[0m\n",
            "[ 48%] Built target tutorial_api_thread_1_user_processing_function.bin\n",
            "[ 49%] \u001b[32m\u001b[1mLinking CXX executable tutorial_api_thread_2_user_input_processing_output_and_datum.bin\u001b[0m\n",
            "[ 49%] Built target tutorial_add_module_custom_post_processing.bin\n",
            "[ 49%] \u001b[32m\u001b[1mLinking CXX executable openpose.bin\u001b[0m\n",
            "[ 49%] Built target tutorial_api_thread_2_user_input_processing_output_and_datum.bin\n",
            "[ 49%] \u001b[32m\u001b[1mLinking CXX executable 18_synchronous_custom_all_and_datum.bin\u001b[0m\n",
            "[ 49%] Built target 18_synchronous_custom_all_and_datum.bin\n",
            "[ 50%] Built target openpose.bin\n",
            "[ 51%] \u001b[32m\u001b[1mLinking CXX executable 17_synchronous_custom_output.bin\u001b[0m\n",
            "[ 52%] \u001b[32m\u001b[1mLinking CXX executable 05_keypoints_from_images_multi_gpu.bin\u001b[0m\n",
            "[ 52%] Built target 05_keypoints_from_images_multi_gpu.bin\n",
            "[ 52%] Built target 17_synchronous_custom_output.bin\n",
            "[ 52%] \u001b[32m\u001b[1mLinking CXX executable 03_keypoints_from_image.bin\u001b[0m\n",
            "[ 52%] \u001b[32m\u001b[1mLinking CXX executable 06_face_from_image.bin\u001b[0m\n",
            "[ 52%] Built target 03_keypoints_from_image.bin\n",
            "[ 52%] Built target 06_face_from_image.bin\n",
            "[ 52%] \u001b[32m\u001b[1mLinking CXX executable 04_keypoints_from_images.bin\u001b[0m\n",
            "[ 53%] \u001b[32m\u001b[1mLinking CXX executable 07_hand_from_image.bin\u001b[0m\n",
            "[ 53%] Built target 07_hand_from_image.bin\n",
            "[ 53%] \u001b[32m\u001b[1mLinking CXX executable 01_body_from_image_default.bin\u001b[0m\n",
            "[ 54%] Built target 04_keypoints_from_images.bin\n",
            "[ 54%] \u001b[32m\u001b[1mLinking CXX executable 09_keypoints_from_heatmaps.bin\u001b[0m\n",
            "[ 54%] Built target 01_body_from_image_default.bin\n",
            "[ 55%] \u001b[32m\u001b[1mLinking CXX executable 02_whole_body_from_image_default.bin\u001b[0m\n",
            "[ 56%] Built target 09_keypoints_from_heatmaps.bin\n",
            "[ 56%] \u001b[32m\u001b[1mLinking CXX executable 13_asynchronous_custom_input_output_and_datum.bin\u001b[0m\n",
            "[ 56%] Built target 02_whole_body_from_image_default.bin\n",
            "[ 56%] \u001b[32m\u001b[1mLinking CXX executable 08_heatmaps_from_image.bin\u001b[0m\n",
            "[ 56%] Built target 13_asynchronous_custom_input_output_and_datum.bin\n",
            "[ 56%] \u001b[32m\u001b[1mLinking CXX executable 16_synchronous_custom_postprocessing.bin\u001b[0m\n",
            "[ 56%] Built target 08_heatmaps_from_image.bin\n",
            "[ 56%] \u001b[32m\u001b[1mLinking CXX executable 11_asynchronous_custom_input_multi_camera.bin\u001b[0m\n",
            "[ 56%] Built target 16_synchronous_custom_postprocessing.bin\n",
            "[ 56%] \u001b[32m\u001b[1mLinking CXX executable 14_synchronous_custom_input.bin\u001b[0m\n",
            "[ 57%] Built target 14_synchronous_custom_input.bin\n",
            "[ 58%] \u001b[32m\u001b[1mLinking CXX executable 15_synchronous_custom_preprocessing.bin\u001b[0m\n",
            "[ 58%] Built target 11_asynchronous_custom_input_multi_camera.bin\n",
            "[ 59%] \u001b[32m\u001b[1mLinking CXX executable 10_asynchronous_custom_input.bin\u001b[0m\n",
            "[ 59%] Built target 15_synchronous_custom_preprocessing.bin\n",
            "[ 60%] \u001b[32m\u001b[1mLinking CXX executable 12_asynchronous_custom_output.bin\u001b[0m\n",
            "[ 60%] Built target 10_asynchronous_custom_input.bin\n",
            "[ 61%] \u001b[32m\u001b[1mLinking CXX executable resizeTest.bin\u001b[0m\n",
            "[ 61%] Built target 12_asynchronous_custom_output.bin\n",
            "[ 62%] \u001b[32m\u001b[1mLinking CXX executable handFromJsonTest.bin\u001b[0m\n",
            "[ 62%] Built target resizeTest.bin\n",
            "[ 62%] \u001b[32m\u001b[1mLinking CXX shared module pyopenpose.cpython-38-x86_64-linux-gnu.so\u001b[0m\n",
            "[ 62%] Built target handFromJsonTest.bin\n",
            "[ 64%] Built target openpose_3d\n",
            "[ 65%] Built target openpose_calibration\n",
            "[ 65%] \u001b[32m\u001b[1mLinking CXX shared library libopenpose_face.so\u001b[0m\n",
            "[ 68%] Built target openpose_face\n",
            "[ 72%] Built target openpose_filestream\n",
            "[ 72%] \u001b[32m\u001b[1mLinking CXX shared library libopenpose_gpu.so\u001b[0m\n",
            "[ 74%] Built target openpose_gpu\n",
            "[ 75%] \u001b[32m\u001b[1mLinking CXX shared library libopenpose_pose.so\u001b[0m\n",
            "[ 78%] Built target openpose_pose\n",
            "[ 78%] \u001b[32m\u001b[1mLinking CXX shared library libopenpose_hand.so\u001b[0m\n",
            "[ 81%] Built target openpose_hand\n",
            "[ 81%] \u001b[32m\u001b[1mLinking CXX shared library libopenpose_net.so\u001b[0m\n",
            "[ 86%] Built target openpose_net\n",
            "[ 87%] Built target openpose_thread\n",
            "[ 88%] Built target openpose_tracking\n",
            "[ 89%] \u001b[32m\u001b[1mLinking CXX shared library libopenpose_unity.so\u001b[0m\n",
            "[ 89%] Built target openpose_unity\n",
            "[ 89%] \u001b[32m\u001b[1mLinking CXX shared library libopenpose_gui.so\u001b[0m\n",
            "[ 91%] Built target openpose_gui\n",
            "[ 94%] Built target openpose_producer\n",
            "[ 96%] Built target openpose_utilities\n",
            "[ 96%] \u001b[32m\u001b[1mLinking CXX shared library libopenpose_wrapper.so\u001b[0m\n",
            "[ 99%] Built target openpose_wrapper\n",
            "[100%] Built target pyopenpose\n"
          ]
        }
      ]
    },
    {
      "cell_type": "markdown",
      "source": [
        "!!!! IF built target **pyopenpose** appears at last line then successfully built."
      ],
      "metadata": {
        "id": "aqW6L3Gd7hpc"
      }
    }
  ]
}